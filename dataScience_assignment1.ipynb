{
 "cells": [
  {
   "cell_type": "raw",
   "metadata": {},
   "source": [
    "Question 1: B. RAINBOW"
   ]
  },
  {
   "cell_type": "raw",
   "metadata": {},
   "source": []
  },
  {
   "cell_type": "raw",
   "metadata": {},
   "source": [
    "Question 2:"
   ]
  },
  {
   "cell_type": "code",
   "execution_count": 1,
   "metadata": {},
   "outputs": [
    {
     "name": "stdout",
     "output_type": "stream",
     "text": [
      "lets upgrade\n",
      "LETS UPGRADE\n"
     ]
    }
   ],
   "source": [
    "user_input = input()\n",
    "print(user_input.upper())"
   ]
  },
  {
   "cell_type": "raw",
   "metadata": {},
   "source": [
    "Question 3:"
   ]
  },
  {
   "cell_type": "code",
   "execution_count": 2,
   "metadata": {},
   "outputs": [
    {
     "name": "stdout",
     "output_type": "stream",
     "text": [
      "Enter the cost price: 20\n",
      "Enter the selling price: 30\n",
      "Profit\n"
     ]
    }
   ],
   "source": [
    "costPrice=input(\"Enter the cost price: \")\n",
    "sellingPrice=input(\"Enter the selling price: \")\n",
    "if(costPrice<sellingPrice):\n",
    "    print(\"Profit\")\n",
    "elif(costPrice>sellingPrice):\n",
    "    print(\"Loss\")\n",
    "else:\n",
    "    print(\"Neither\")"
   ]
  },
  {
   "cell_type": "code",
   "execution_count": 4,
   "metadata": {},
   "outputs": [
    {
     "name": "stdout",
     "output_type": "stream",
     "text": [
      "Enter the amount in EUROS: 5\n",
      "400\n"
     ]
    }
   ],
   "source": [
    "amt_euros=input(\"Enter the amount in EUROS: \")\n",
    "amt_rupee=80*int(amt_euros)\n",
    "print(amt_rupee)"
   ]
  }
 ],
 "metadata": {
  "kernelspec": {
   "display_name": "Python 3",
   "language": "python",
   "name": "python3"
  },
  "language_info": {
   "codemirror_mode": {
    "name": "ipython",
    "version": 3
   },
   "file_extension": ".py",
   "mimetype": "text/x-python",
   "name": "python",
   "nbconvert_exporter": "python",
   "pygments_lexer": "ipython3",
   "version": "3.8.3"
  }
 },
 "nbformat": 4,
 "nbformat_minor": 4
}

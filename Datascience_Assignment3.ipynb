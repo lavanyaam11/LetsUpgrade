{
 "cells": [
  {
   "cell_type": "markdown",
   "metadata": {},
   "source": [
    "# Ques 1:\n",
    "\n",
    "Create a numpy array starting from 2 till 50 with a stepsize of 3."
   ]
  },
  {
   "cell_type": "code",
   "execution_count": 1,
   "metadata": {},
   "outputs": [],
   "source": [
    "import numpy as np"
   ]
  },
  {
   "cell_type": "code",
   "execution_count": 3,
   "metadata": {},
   "outputs": [
    {
     "name": "stdout",
     "output_type": "stream",
     "text": [
      "[ 2  5  8 11 14 17 20 23 26 29 32 35 38 41 44 47]\n"
     ]
    }
   ],
   "source": [
    "arr = np.arange(2,50,3)\n",
    "print(arr)"
   ]
  },
  {
   "cell_type": "markdown",
   "metadata": {},
   "source": [
    "# Ques 2:\n",
    "\n",
    "Accept two lists of 5 elements each from the user.\n",
    "Convert them to numpy arrays. Concatenate these arrays and print it.\n",
    "\n",
    "\n",
    "Also sort these arrays and print it."
   ]
  },
  {
   "cell_type": "code",
   "execution_count": 38,
   "metadata": {},
   "outputs": [
    {
     "name": "stdout",
     "output_type": "stream",
     "text": [
      "Concatenate Array:\n",
      "[ 1  3  2  4  7  5  6  8 11  9]\n",
      "\n",
      "Sorted Array A\n",
      "[1 2 3 4 7]\n",
      "\n",
      "Sorted Array B\n",
      "[ 5  6  8  9 11]\n",
      "\n",
      "Sorted Concatenated Array c\n",
      "[ 1  2  3  4  5  6  7  8  9 11]\n"
     ]
    }
   ],
   "source": [
    "a = [1,3,2,4,7]\n",
    "\n",
    "b = [5,6,8,11,9]\n",
    "\n",
    "a_arr = np.asarray(a)\n",
    "b_arr = np.asarray(b)\n",
    "c = np.concatenate((a_arr, b_arr))\n",
    "print(f\"Concatenate Array:\\n{c}\")\n",
    "print()\n",
    "print(\"Sorted Array A\")\n",
    "print(np.sort(a))\n",
    "print()\n",
    "print(\"Sorted Array B\")\n",
    "print(np.sort(b))\n",
    "print()\n",
    "print(\"Sorted Concatenated Array c\")\n",
    "print(np.sort(c))"
   ]
  },
  {
   "cell_type": "markdown",
   "metadata": {},
   "source": [
    "# Ques 3:\n",
    "\n",
    "Write a code snippet to find the dimensions of a ndarray and its size."
   ]
  },
  {
   "cell_type": "code",
   "execution_count": 22,
   "metadata": {},
   "outputs": [
    {
     "name": "stdout",
     "output_type": "stream",
     "text": [
      "No. of dimensions:  2\n",
      "\n",
      "\n",
      "Shape of array:  (2, 3)\n",
      "\n",
      "\n",
      "Size of array:  6\n",
      "\n",
      "\n",
      "Array stores elements of type:  int32\n",
      "\n",
      "\n",
      "Array is of type:  <class 'numpy.ndarray'>\n"
     ]
    }
   ],
   "source": [
    "arr = np.array( [[ 1, 2, 3],\n",
    "                 [ 4, 5, 6]] )\n",
    "\n",
    "print(\"No. of dimensions: \", arr.ndim)\n",
    "print()\n",
    "print()\n",
    "print(\"Shape of array: \", arr.shape)\n",
    "print()\n",
    "print()\n",
    "print(\"Size of array: \", arr.size)\n",
    "print()\n",
    "print()\n",
    "print(\"Array stores elements of type: \", arr.dtype)\n",
    "print()\n",
    "print()\n",
    "print(\"Array is of type: \", type(arr))"
   ]
  },
  {
   "cell_type": "markdown",
   "metadata": {},
   "source": [
    "# Ques 4:\n",
    "\n",
    "How to convert a 1D array into a 2D array? \n",
    "\n",
    "Demonstrate with the help of a code snippet\n",
    "\n",
    "\n",
    "Hint: np.newaxis, np.expand_dims"
   ]
  },
  {
   "cell_type": "code",
   "execution_count": 21,
   "metadata": {},
   "outputs": [
    {
     "name": "stdout",
     "output_type": "stream",
     "text": [
      "1D array\n",
      "\n",
      "[1, 2, 3, 4, 5, 6, 7, 8, 9, 10]\n",
      "\n",
      "\n",
      "2D Array using np.expand.dims\n",
      "\n",
      "[[ 1]\n",
      " [ 2]\n",
      " [ 3]\n",
      " [ 4]\n",
      " [ 5]\n",
      " [ 6]\n",
      " [ 7]\n",
      " [ 8]\n",
      " [ 9]\n",
      " [10]]\n",
      "\n",
      "\n",
      "2D Array using np.expand.dims\n",
      "\n",
      "[[ 1  2  3  4  5]\n",
      " [ 6  7  8  9 10]]\n"
     ]
    }
   ],
   "source": [
    "# using expand_dims\n",
    "\n",
    "arr = [1,2,3,4,5,6,7,8,9,10]\n",
    "print(\"1D array\")\n",
    "print()\n",
    "print(arr)\n",
    "arr_2d = np.expand_dims(arr, axis=1)\n",
    "print()\n",
    "print()\n",
    "print(\"2D Array using np.expand.dims\")\n",
    "print()\n",
    "print(arr_2d)\n",
    "\n",
    "print()\n",
    "print()\n",
    "# using reshape\n",
    "ar = np.asarray(arr)\n",
    "arr_reshape = ar.reshape(2,5)\n",
    "print(\"2D Array using np.expand.dims\")\n",
    "print()\n",
    "print(arr_reshape)"
   ]
  },
  {
   "cell_type": "markdown",
   "metadata": {},
   "source": [
    "# Ques 5:\n",
    "\n",
    "Consider two square numpy arrays. Stack them vertically and horizontally.\n",
    "\n",
    "Hint: Use vstack(), hstack()"
   ]
  },
  {
   "cell_type": "code",
   "execution_count": 26,
   "metadata": {},
   "outputs": [
    {
     "name": "stdout",
     "output_type": "stream",
     "text": [
      "Vertical stacking:\n",
      "\n",
      " [[1 3]\n",
      " [5 7]\n",
      " [2 4]\n",
      " [6 8]]\n",
      "\n",
      "Horizontal stacking:\n",
      "\n",
      " [[1 3 2 4]\n",
      " [5 7 6 8]]\n"
     ]
    }
   ],
   "source": [
    "a = np.array([[1, 3], \n",
    "              [5, 7]]) \n",
    "  \n",
    "b = np.array([[2, 4], \n",
    "              [6, 8]]) \n",
    "\n",
    "print(\"Vertical stacking:\\n\\n\", np.vstack((a, b)))\n",
    "print(\"\\nHorizontal stacking:\\n\\n\", np.hstack((a, b)))"
   ]
  },
  {
   "cell_type": "markdown",
   "metadata": {},
   "source": [
    "# Ques 6:\n",
    "\n",
    "How to get unique items and counts of unique items?"
   ]
  },
  {
   "cell_type": "code",
   "execution_count": 32,
   "metadata": {},
   "outputs": [
    {
     "name": "stdout",
     "output_type": "stream",
     "text": [
      "Unique array:\n",
      "{1, 2, 3, 4, 5, 6, 7, 8, 9}\n",
      "\n",
      "Number of unique elements:\n",
      "9\n"
     ]
    }
   ],
   "source": [
    "arr = [1,2,2,3,3,4,4,5,6,5,7,8,6,8,9,9]\n",
    "arr_set = set(arr)\n",
    "print(f\"Unique array:\\n{arr_set}\")\n",
    "print()\n",
    "print(f\"Number of unique elements:\\n{len(arr_set)}\")\n",
    "\n",
    "# it can be done by using counter method "
   ]
  },
  {
   "cell_type": "code",
   "execution_count": 28,
   "metadata": {},
   "outputs": [
    {
     "data": {
      "text/plain": [
       "{1, 2, 3, 4, 5, 6, 7, 8, 9}"
      ]
     },
     "execution_count": 28,
     "metadata": {},
     "output_type": "execute_result"
    }
   ],
   "source": [
    "arr_set"
   ]
  },
  {
   "cell_type": "code",
   "execution_count": null,
   "metadata": {},
   "outputs": [],
   "source": []
  }
 ],
 "metadata": {
  "kernelspec": {
   "display_name": "Python 3",
   "language": "python",
   "name": "python3"
  },
  "language_info": {
   "codemirror_mode": {
    "name": "ipython",
    "version": 3
   },
   "file_extension": ".py",
   "mimetype": "text/x-python",
   "name": "python",
   "nbconvert_exporter": "python",
   "pygments_lexer": "ipython3",
   "version": "3.7.4"
  }
 },
 "nbformat": 4,
 "nbformat_minor": 2
}

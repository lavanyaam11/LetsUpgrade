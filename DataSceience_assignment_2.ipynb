{
 "cells": [
  {
   "cell_type": "markdown",
   "metadata": {},
   "source": [
    "# Ques1:\n",
    "Create an empty list. Accept 10 numbers from the user and append to it the list if it is an even number."
   ]
  },
  {
   "cell_type": "code",
   "execution_count": 3,
   "metadata": {},
   "outputs": [
    {
     "name": "stdout",
     "output_type": "stream",
     "text": [
      "1\n",
      "2\n",
      "3\n",
      "4\n",
      "5\n",
      "6\n",
      "7\n",
      "8\n",
      "9\n",
      "10\n",
      "[2, 4, 6, 8, 10]\n"
     ]
    }
   ],
   "source": [
    "lis = []\n",
    "for i in range(10):\n",
    "    c = int(input())\n",
    "    if c%2 == 0:\n",
    "        lis.append(c)\n",
    "print(lis)"
   ]
  },
  {
   "cell_type": "markdown",
   "metadata": {},
   "source": [
    "# Ques 2:\n",
    "Create a notebook on LIST COMPREHENSION."
   ]
  },
  {
   "cell_type": "markdown",
   "metadata": {},
   "source": [
    "**List comprehensions** provide us with a simple way to create a list based on some iterable. During the creation, elements from the iterable can be conditionally included in the new list and transformed as needed.\n",
    "\n",
    "**The components of a list comprehension are:**\n",
    "\n",
    "Output Expression (Optional)\n",
    "Iterable\n",
    "Iterator variable which represents the members of the iterable\n",
    "\n",
    "**Syntax of List Comprehension**\n",
    "\n",
    "**[expression for item in list]**\n",
    "\n",
    "We can also create more advanced list comprehensions which include a conditional statement on the iterable.\n",
    "\n",
    "\n",
    "**[expression for item in list if condition]**\n",
    "\n",
    "**List Comprehensions and Lambda functions**\n",
    "\n",
    "Various built-in functions and lambda functions can create and modify lists in less lines of code."
   ]
  },
  {
   "cell_type": "code",
   "execution_count": 14,
   "metadata": {
    "scrolled": true
   },
   "outputs": [
    {
     "name": "stdout",
     "output_type": "stream",
     "text": [
      "[1, 4, 9, 16, 25]\n",
      "[4, 16]\n",
      "['h', 'u', 'm', 'a', 'n']\n"
     ]
    }
   ],
   "source": [
    "#example on list comprehension\n",
    "\n",
    "numbers = [1, 2, 3, 4, 5]\n",
    "squares = [number**2 for number in numbers]\n",
    "squares_even = [number**2 for number in numbers if number%2 == 0]\n",
    "print(squares)\n",
    "print(squares_even)\n",
    "\n",
    "letters = list(map(lambda x: x, 'human'))\n",
    "print(letters)"
   ]
  },
  {
   "cell_type": "markdown",
   "metadata": {},
   "source": [
    "# Ques 3:\n",
    "You have seen in the videos how powerful dictionary data structure is.\n",
    "In this assignment, given a number n, you have to write a program that generates a dictionary d which\n",
    "contains (i, i*i), where i is from 1 to n (both included).\n",
    "Then you have to just print this dictionary d.\n",
    "Example:\n",
    "Input: 4\n",
    "will give output as\n",
    "{1: 1, 2: 4, 3: 9, 4: 16}\n",
    "Input Format:\n",
    "Take the number n in a single line.\n",
    "Output Format:\n",
    "Print the dictionary d in a single line."
   ]
  },
  {
   "cell_type": "code",
   "execution_count": 15,
   "metadata": {},
   "outputs": [
    {
     "name": "stdout",
     "output_type": "stream",
     "text": [
      "2\n",
      "{1: 1, 2: 4}\n"
     ]
    }
   ],
   "source": [
    "d = {}\n",
    "n = int(input())\n",
    "for i in range(1,n+1):\n",
    "    d[i] = i**2\n",
    "    \n",
    "print(d)"
   ]
  },
  {
   "cell_type": "markdown",
   "metadata": {},
   "source": [
    "# Ques 4:\n",
    "There is a robot which wants to go the charging point to charge itself.\n",
    "The robot moves in a 2-D plane from the original point (0,0). The robot can\n",
    "move toward UP, DOWN, LEFT and RIGHT with given steps."
   ]
  },
  {
   "cell_type": "code",
   "execution_count": 9,
   "metadata": {},
   "outputs": [
    {
     "name": "stdout",
     "output_type": "stream",
     "text": [
      "4\n",
      "UP 5\n",
      "DOWN 3\n",
      "LEFT 3\n",
      "RIGHT 2\n",
      "2\n"
     ]
    }
   ],
   "source": [
    "n = int(input())\n",
    "x1 = 0\n",
    "y1 = 0\n",
    "for i in range(n):\n",
    "    s , m = input().split()\n",
    "    m = int(m)\n",
    "    x2 = 0\n",
    "    y2 = 0\n",
    "    if(s.upper() == \"UP\"):\n",
    "        y2 = y2 + m\n",
    "    elif (s.upper() == \"DOWN\"):\n",
    "        y2 = y2 - m\n",
    "    elif (s.upper() == \"LEFT\"):\n",
    "        x2 = x2 - m\n",
    "    elif (s.upper() == \"RIGHT\"):\n",
    "        x2 = x2 + m\n",
    "dis = ((x2-x1)**2 + (y2-y1)**2)**0.5\n",
    "print(round(dis))"
   ]
  },
  {
   "cell_type": "code",
   "execution_count": null,
   "metadata": {},
   "outputs": [],
   "source": []
  }
 ],
 "metadata": {
  "kernelspec": {
   "display_name": "Python 3",
   "language": "python",
   "name": "python3"
  },
  "language_info": {
   "codemirror_mode": {
    "name": "ipython",
    "version": 3
   },
   "file_extension": ".py",
   "mimetype": "text/x-python",
   "name": "python",
   "nbconvert_exporter": "python",
   "pygments_lexer": "ipython3",
   "version": "3.7.4"
  }
 },
 "nbformat": 4,
 "nbformat_minor": 2
}
